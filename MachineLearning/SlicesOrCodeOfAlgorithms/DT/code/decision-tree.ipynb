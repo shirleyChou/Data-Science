{
 "cells": [
  {
   "cell_type": "code",
   "execution_count": 1,
   "metadata": {
    "collapsed": true
   },
   "outputs": [],
   "source": [
    "%matplotlib inline"
   ]
  },
  {
   "cell_type": "code",
   "execution_count": 115,
   "metadata": {
    "collapsed": true
   },
   "outputs": [],
   "source": [
    "from math import log\n",
    "import pandas as pd\n",
    "import numpy as np"
   ]
  },
  {
   "cell_type": "code",
   "execution_count": 163,
   "metadata": {
    "collapsed": false
   },
   "outputs": [],
   "source": [
    "def calculate_empirical_entropy(label):\n",
    "    class_of_label = label.value_counts()\n",
    "    percent_of_label = class_of_label.div(\n",
    "        class_of_label.sum(0).astype(float), \n",
    "        axis=0)\n",
    "    number_of_label = percent_of_label.shape[0]\n",
    "    empirical_entropy = 0.0 \n",
    "    for item in xrange(number_of_label):\n",
    "        percent = percent_of_label[item]\n",
    "        empirical_entropy += -1 * percent * log(percent, 2)\n",
    "    return round(empirical_entropy, 3)\n",
    "\n",
    "\n",
    "def calculate_empirical_conditional_entropy(column, label):\n",
    "    # number of people classified by column and label\n",
    "    data = pd.crosstab(column, label)\n",
    "    # number of people classified by column\n",
    "    number_in_column = data.sum(1)\n",
    "    # number of sample\n",
    "    sample = number_in_column.sum(0)\n",
    "    # percent of people classified by column and label\n",
    "    percent = data.div(number_in_column, axis=0)\n",
    "    # empirical conditional entropy\n",
    "    empirical_conditional_entropy = (\n",
    "        (-1 * percent * np.log2(percent)).sum(1) * number_in_column.div(sample, axis=0)\n",
    "    )\n",
    "    return round(empirical_conditional_entropy.sum(), 3)\n",
    "\n",
    "\n",
    "def calculate_information_gain(column, label):\n",
    "    empirical_entropy = calculate_empirical_entropy(label)\n",
    "    empirical_conditional_entropy = (\n",
    "    calculate_empirical_conditional_entropy(column, label))\n",
    "    return round((empirical_entropy - empirical_conditional_entropy), 3)\n",
    "\n",
    "\n",
    "def calculate_information_gain_ration(column, label):\n",
    "    gain = calculate_information_gain(column, label)\n",
    "    entropy = calculate_empirical_entropy(label)\n",
    "    return round(gain / entropy, 3)\n",
    "\n",
    "\n",
    "def ID3():\n",
    "    \"\"\"use information gain\"\"\"\n",
    "    pass\n",
    "\n",
    "\n",
    "def C4point5():\n",
    "    \"\"\"use information gain ration\"\"\"\n",
    "    pass\n",
    "\n",
    "\n",
    "def CART():\n",
    "    \"\"\"classification and regression tree\"\"\"\n",
    "    pass"
   ]
  },
  {
   "cell_type": "code",
   "execution_count": 164,
   "metadata": {
    "collapsed": false
   },
   "outputs": [
    {
     "data": {
      "text/plain": [
       "0.363"
      ]
     },
     "execution_count": 164,
     "metadata": {},
     "output_type": "execute_result"
    }
   ],
   "source": [
    "def read_data():\n",
    "    data = pd.read_csv('data.csv')\n",
    "    return data\n",
    "\n",
    "data = read_data()\n",
    "result = calculate_information_gain(data.Credit, data.label)\n",
    "result"
   ]
  },
  {
   "cell_type": "code",
   "execution_count": 165,
   "metadata": {
    "collapsed": false
   },
   "outputs": [
    {
     "name": "stdout",
     "output_type": "stream",
     "text": [
      "age =  0.251\n",
      "job =  0.918\n",
      "credit =  0.696\n"
     ]
    }
   ],
   "source": [
    "d2 = data[data.House == 'N']\n",
    "job = calculate_information_gain(d2.Job, d2.label)\n",
    "Credit = calculate_information_gain(d2.Credit, d2.label)\n",
    "age = calculate_information_gain(d2.Age, d2.label)\n",
    "print \"age = \", age\n",
    "print \"job = \", job\n",
    "print \"credit = \", credit"
   ]
  },
  {
   "cell_type": "code",
   "execution_count": 166,
   "metadata": {
    "collapsed": false
   },
   "outputs": [
    {
     "data": {
      "text/html": [
       "<div>\n",
       "<table border=\"1\" class=\"dataframe\">\n",
       "  <thead>\n",
       "    <tr style=\"text-align: right;\">\n",
       "      <th></th>\n",
       "      <th>Age</th>\n",
       "      <th>Job</th>\n",
       "      <th>House</th>\n",
       "      <th>Credit</th>\n",
       "      <th>label</th>\n",
       "    </tr>\n",
       "  </thead>\n",
       "  <tbody>\n",
       "    <tr>\n",
       "      <th>0</th>\n",
       "      <td>Young</td>\n",
       "      <td>N</td>\n",
       "      <td>N</td>\n",
       "      <td>Fair</td>\n",
       "      <td>N</td>\n",
       "    </tr>\n",
       "    <tr>\n",
       "      <th>1</th>\n",
       "      <td>Young</td>\n",
       "      <td>N</td>\n",
       "      <td>N</td>\n",
       "      <td>Good</td>\n",
       "      <td>N</td>\n",
       "    </tr>\n",
       "    <tr>\n",
       "      <th>2</th>\n",
       "      <td>Young</td>\n",
       "      <td>Y</td>\n",
       "      <td>N</td>\n",
       "      <td>Good</td>\n",
       "      <td>Y</td>\n",
       "    </tr>\n",
       "    <tr>\n",
       "      <th>4</th>\n",
       "      <td>Young</td>\n",
       "      <td>N</td>\n",
       "      <td>N</td>\n",
       "      <td>Fair</td>\n",
       "      <td>N</td>\n",
       "    </tr>\n",
       "    <tr>\n",
       "      <th>5</th>\n",
       "      <td>Middle</td>\n",
       "      <td>N</td>\n",
       "      <td>N</td>\n",
       "      <td>Fair</td>\n",
       "      <td>N</td>\n",
       "    </tr>\n",
       "    <tr>\n",
       "      <th>6</th>\n",
       "      <td>Middle</td>\n",
       "      <td>N</td>\n",
       "      <td>N</td>\n",
       "      <td>Good</td>\n",
       "      <td>N</td>\n",
       "    </tr>\n",
       "    <tr>\n",
       "      <th>12</th>\n",
       "      <td>Old</td>\n",
       "      <td>Y</td>\n",
       "      <td>N</td>\n",
       "      <td>Good</td>\n",
       "      <td>Y</td>\n",
       "    </tr>\n",
       "    <tr>\n",
       "      <th>13</th>\n",
       "      <td>Old</td>\n",
       "      <td>Y</td>\n",
       "      <td>N</td>\n",
       "      <td>Very Good</td>\n",
       "      <td>Y</td>\n",
       "    </tr>\n",
       "    <tr>\n",
       "      <th>14</th>\n",
       "      <td>Old</td>\n",
       "      <td>N</td>\n",
       "      <td>N</td>\n",
       "      <td>Fair</td>\n",
       "      <td>N</td>\n",
       "    </tr>\n",
       "  </tbody>\n",
       "</table>\n",
       "</div>"
      ],
      "text/plain": [
       "       Age Job House     Credit label\n",
       "0    Young   N     N       Fair     N\n",
       "1    Young   N     N       Good     N\n",
       "2    Young   Y     N       Good     Y\n",
       "4    Young   N     N       Fair     N\n",
       "5   Middle   N     N       Fair     N\n",
       "6   Middle   N     N       Good     N\n",
       "12     Old   Y     N       Good     Y\n",
       "13     Old   Y     N  Very Good     Y\n",
       "14     Old   N     N       Fair     N"
      ]
     },
     "execution_count": 166,
     "metadata": {},
     "output_type": "execute_result"
    }
   ],
   "source": [
    "d2"
   ]
  },
  {
   "cell_type": "markdown",
   "metadata": {},
   "source": [
    "https://www.quora.com/What-are-the-differences-between-ID3-C4-5-and-CART\n",
    "\n",
    "http://stackoverflow.com/questions/9979461/different-decision-tree-algorithms-with-comparison-of-complexity-or-performance\n",
    "\n",
    "https://www.zhihu.com/question/27205203\n",
    "\n",
    "http://scikit-learn.org/stable/modules/tree.html"
   ]
  },
  {
   "cell_type": "code",
   "execution_count": null,
   "metadata": {
    "collapsed": true
   },
   "outputs": [],
   "source": []
  }
 ],
 "metadata": {
  "kernelspec": {
   "display_name": "Python 2",
   "language": "python",
   "name": "python2"
  },
  "language_info": {
   "codemirror_mode": {
    "name": "ipython",
    "version": 2
   },
   "file_extension": ".py",
   "mimetype": "text/x-python",
   "name": "python",
   "nbconvert_exporter": "python",
   "pygments_lexer": "ipython2",
   "version": "2.7.10"
  }
 },
 "nbformat": 4,
 "nbformat_minor": 0
}
