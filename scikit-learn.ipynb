{
 "cells": [
  {
   "cell_type": "markdown",
   "metadata": {},
   "source": [
    "[implementation of scikit-learn](https://github.com/shirleyChou/data-science-ipython-notebooks#scikit-learn)\n",
    "[material 2 with pan.baidu.com](http://nbviewer.ipython.org/github/amueller/pydata-nyc-advanced-sklearn/blob/master/Chapter%200%20-%20Reminder.ipynb)"
   ]
  }
 ],
 "metadata": {
  "kernelspec": {
   "display_name": "Python 2",
   "language": "python",
   "name": "python2"
  },
  "language_info": {
   "codemirror_mode": {
    "name": "ipython",
    "version": 2
   },
   "file_extension": ".py",
   "mimetype": "text/x-python",
   "name": "python",
   "nbconvert_exporter": "python",
   "pygments_lexer": "ipython2",
   "version": "2.7.10"
  }
 },
 "nbformat": 4,
 "nbformat_minor": 0
}
